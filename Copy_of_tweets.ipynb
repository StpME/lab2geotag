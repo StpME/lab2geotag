{
  "cells": [
    {
      "cell_type": "code",
      "execution_count": 2,
      "id": "comic-detroit",
      "metadata": {
        "id": "comic-detroit"
      },
      "outputs": [],
      "source": [
        "# created on Dec 24, 2020\n",
        "# modified on April 14, 2021\n",
        "# modified on Jan 2, 2021\n",
        "# @author:          Bo Zhao\n",
        "# @email:           zhaobo@uw.edu\n",
        "# @website:         https://hgis.uw.edu\n",
        "# @organization:    Department of Geography, University of Washington, Seattle\n",
        "# @description:     Search historical tweets using locational information"
      ]
    },
    {
      "cell_type": "markdown",
      "id": "wNeK9kzckC8h",
      "metadata": {
        "id": "wNeK9kzckC8h"
      },
      "source": [
        "Project: Lab 2\n",
        "Mitchell Stapelman"
      ]
    },
    {
      "cell_type": "code",
      "execution_count": 3,
      "id": "2hob_1iXn14t",
      "metadata": {
        "id": "2hob_1iXn14t"
      },
      "outputs": [],
      "source": [
        "import tweepy\n",
        "import pandas as pd"
      ]
    },
    {
      "cell_type": "code",
      "execution_count": 4,
      "id": "WHeExfSloBhI",
      "metadata": {
        "id": "WHeExfSloBhI"
      },
      "outputs": [],
      "source": [
        "# the file path where to store the output csv on google drive\n",
        "output_file = '/gdrive/My Drive/twsearch-result.csv'\n",
        "\n",
        "# Apply for your own Twitter API keys at https://developer.twitter.com/en/apply-for-access\n",
        "consumer_key = \"\"\n",
        "consumer_secret = \"\"\n",
        "access_token = \"\"\n",
        "access_token_secret = \"\"\n",
        "\n",
        "auth = tweepy.OAuthHandler(consumer_key, consumer_secret)\n",
        "auth.set_access_token(access_token, access_token_secret)\n",
        "api = tweepy.API(auth, wait_on_rate_limit=True)"
      ]
    },
    {
      "cell_type": "code",
      "execution_count": 36,
      "id": "passing-pulse",
      "metadata": {
        "colab": {
          "base_uri": "https://localhost:8080/"
        },
        "id": "passing-pulse",
        "outputId": "961604ee-9c44-4c4c-9f61-89e7c13d46df"
      },
      "outputs": [
        {
          "name": "stdout",
          "output_type": "stream",
          "text": [
            "{'username': 'Mr. Conservative 🇺🇸', 'userid': 2350307024, 'profile_location': 'Oklahoma City, OK', 'created_at': '2023-01-21 23:56:15', 'text': '@RonnyJacksonTX Democrats would never ask China to do their part, when they out number united states 4:1 ratio. And… https://t.co/GhIfGCFlRx', 'retweet_count': 0, 'source': 'Twitter for iPhone', 'coordinates': None}\n",
            "{'username': 'Mike Carden', 'userid': 1521314383615430662, 'profile_location': 'Oklahoma City, OK', 'created_at': '2023-01-21 22:30:47', 'text': '@TerryTibbsOG @DiedSuddenly_ I think they’ve tracked it back to Trump, but Russia was definitely involved… But it w… https://t.co/CV4nG1iu2d', 'retweet_count': 0, 'source': 'Twitter for iPhone', 'coordinates': None}\n",
            "{'username': 'Stevenia Welch', 'userid': 3071809927, 'profile_location': 'Norman, OK', 'created_at': '2023-01-21 18:36:23', 'text': '@ksorbs Wow!  He was absolutely correct!  Complaining &amp; protesting &amp; rioting does not actually change things! The p… https://t.co/6A2EyD7BYO', 'retweet_count': 0, 'source': 'Twitter for iPhone', 'coordinates': None}\n",
            "{'username': 'Oklahoma Contemporary', 'userid': 46185001, 'profile_location': 'Oklahoma City, Oklahoma', 'created_at': '2023-01-21 18:00:37', 'text': 'In your #SaturdayRead, @CoLabProjectsTX turns a gallery into a \"infra-sonic subwoofer.\" The sounds elicit varying r… https://t.co/v7zKNt8krT', 'retweet_count': 0, 'source': 'Hootsuite Inc.', 'coordinates': None}\n",
            "{'username': 'Elevate', 'userid': 365565187, 'profile_location': 'Oklahoma City, OK', 'created_at': '2023-01-21 15:28:50', 'text': '@rawsalerts So one of the most vocal states about climate change and rising sea levels, are the same ones that thin… https://t.co/9Hj3kClDrq', 'retweet_count': 4, 'source': 'Twitter Web App', 'coordinates': None}\n",
            "{'username': 'Marc Iacaboni', 'userid': 1518899402521387008, 'profile_location': 'Oklahoma City, OK', 'created_at': '2023-01-21 14:08:07', 'text': '@Healthy4life000 @P_McCulloughMD But it’s climate change it has nothing to do with the jabs they took and I am a mo… https://t.co/p1vfuZqZce', 'retweet_count': 0, 'source': 'Twitter for iPhone', 'coordinates': None}\n",
            "{'username': 'Marc Iacaboni', 'userid': 1518899402521387008, 'profile_location': 'Oklahoma City, OK', 'created_at': '2023-01-21 14:06:34', 'text': '@JoeBell @P_McCulloughMD Climate change = Chemtrails +HAARP', 'retweet_count': 0, 'source': 'Twitter for iPhone', 'coordinates': None}\n",
            "{'username': 'Theorist', 'userid': 3119145007, 'profile_location': 'Oklahoma City, OK', 'created_at': '2023-01-21 11:50:01', 'text': '@Anon271121 @lisapease @stewartdantec Still no. It’s the pushing a lot of things like climate change. Yes part of i… https://t.co/0HOx0H1A2W', 'retweet_count': 0, 'source': 'Twitter for iPhone', 'coordinates': None}\n",
            "{'username': 'Tim Auten', 'userid': 1518911177245483008, 'profile_location': '', 'created_at': '2023-01-21 01:50:23', 'text': \"@ConservBrief You Just as well Hang Your and inflation bidens, Climate Change Hope's Up\\nIt's a big money and Countr… https://t.co/YB62sWqK5e\", 'retweet_count': 0, 'source': 'Twitter for Android', 'coordinates': None}\n",
            "{'username': 'David Wooten', 'userid': 366385121, 'profile_location': 'Norman, Oklahoma', 'created_at': '2023-01-20 19:32:51', 'text': \"@chrisjones3869 @Partisangirl Yes, sadly your country is becoming a pile of shiт, thanks to 'conservative' politici… https://t.co/S8LaIUS7Ei\", 'retweet_count': 0, 'source': 'Twitter Web App', 'coordinates': None}\n",
            "{'username': 'Jeffrey Harwell', 'userid': 168003545, 'profile_location': 'Norman, Oklahoma', 'created_at': '2023-01-20 14:33:01', 'text': '\"No one wants to enlist in, or pay for, a war that its generals have no clue how to win, much less the means to do… https://t.co/QVwMVbKRbx', 'retweet_count': 0, 'source': 'Twitter for Android', 'coordinates': None}\n",
            "{'username': 'Tim Auten', 'userid': 1518911177245483008, 'profile_location': '', 'created_at': '2023-01-20 11:08:13', 'text': '@elonmusk @financialjuice This inflation  Biden \\nGas &amp; Oil Shutdown is not going to last long, This BS\\nClimate Chan… https://t.co/VkLQef6OHM', 'retweet_count': 0, 'source': 'Twitter for Android', 'coordinates': None}\n",
            "{'username': 'MStephen', 'userid': 1586567185912287232, 'profile_location': 'Bethany, OK', 'created_at': '2023-01-20 05:04:06', 'text': 'Green New Dealers tell me I should worry about my grandchildren and climate change. I worry about how they’ll pay f… https://t.co/6mElMTPMZc', 'retweet_count': 0, 'source': 'Twitter for iPhone', 'coordinates': None}\n",
            "{'username': 'Tim Auten', 'userid': 1518911177245483008, 'profile_location': '', 'created_at': '2023-01-20 03:10:36', 'text': '@RepAdamSchiff Look what you Liberal Socialist Lying Democrats have done for the U.S. Economy, ZERO ZIP, All You\\nSo… https://t.co/H2sqJ181bY', 'retweet_count': 0, 'source': 'Twitter for Android', 'coordinates': None}\n",
            "{'username': 'Corrie Elston', 'userid': 54404361, 'profile_location': 'The sofa...', 'created_at': '2023-01-20 01:34:15', 'text': 'Could Air Someday Power Your Flight? Airlines Are Betting on It. https://t.co/QWGuN4o9tX', 'retweet_count': 0, 'source': 'Twitter Web App', 'coordinates': None}\n",
            "{'username': 'Raeann Dye', 'userid': 1592989947115479041, 'profile_location': 'El Reno, OK', 'created_at': '2023-01-20 00:54:42', 'text': '@LibFails 💯 and since they can’t get anywhere with the climate change bullshit, they’re going to work on apparently… https://t.co/HWUDj8JqSC', 'retweet_count': 0, 'source': 'Twitter for iPhone', 'coordinates': None}\n",
            "{'username': 'David Wooten', 'userid': 366385121, 'profile_location': 'Norman, Oklahoma', 'created_at': '2023-01-19 20:54:11', 'text': \"@sfmf91 @LibFails 2/ Agree military people should have the right to vote. \\n\\nNot sure about the gazillions of 'woke'… https://t.co/4rhB67P3JE\", 'retweet_count': 0, 'source': 'Twitter Web App', 'coordinates': None}\n",
            "{'username': 'Earth Rebirth 🥬💡💧', 'userid': 259124352, 'profile_location': 'Oklahoma City, OK', 'created_at': '2023-01-19 18:06:12', 'text': 'EPA Proposes to Add Environmental Justice, Climate Change, and PFAS to National Enforcement and Compliance Initiati… https://t.co/YrfHpiPOUF', 'retweet_count': 0, 'source': 'IFTTT', 'coordinates': None}\n",
            "{'username': 'South Central CASC', 'userid': 3246173246, 'profile_location': 'Norman, OK', 'created_at': '2023-01-19 17:25:35', 'text': 'The mission of the Native Youth Climate Adaptation Leadership Congress (#NYCALC) is to develop future conservation… https://t.co/Jn0uS9ftOC', 'retweet_count': 1, 'source': 'Twitter Web App', 'coordinates': None}\n",
            "{'username': 'Jeff Ruff', 'userid': 294431458, 'profile_location': 'Oklahoma City', 'created_at': '2023-01-19 15:26:28', 'text': '@RubinReport He has sharpened his climate change fear mongering skills over 4 decades.', 'retweet_count': 0, 'source': 'Twitter for iPhone', 'coordinates': None}\n",
            "{'username': 'Mase CcCoy', 'userid': 340119417, 'profile_location': 'Oklahoma City, OK', 'created_at': '2023-01-19 06:49:22', 'text': 'Oops I accidentally let myself get extremely mad about climate change instead of the normal baseline very mad I am… https://t.co/pMzsHLCMa2', 'retweet_count': 0, 'source': 'Twitter for iPhone', 'coordinates': None}\n",
            "{'username': 'LeAnne Sciarrillo', 'userid': 1461421458496888833, 'profile_location': 'Edmond, OK', 'created_at': '2023-01-19 01:47:48', 'text': '@catturd2 Right on, but who appointed them and how do these assholes continue to have a platform to scream “climate… https://t.co/IDBAfd7Mxv', 'retweet_count': 0, 'source': 'Twitter for iPhone', 'coordinates': None}\n",
            "{'username': 'John Kelsey', 'userid': 19563241, 'profile_location': 'OKC', 'created_at': '2023-01-19 00:59:25', 'text': 'If you thought the Boston Tea Party was something, try messing with our coffee. #comeandtakeit #coffeeislife\\n\\nhttps://t.co/C7hJXk4axw', 'retweet_count': 6, 'source': 'Twitter Web App', 'coordinates': None}\n",
            "{'username': 'Phoenix Mckenzie.', 'userid': 1509596933408661519, 'profile_location': 'Oklahoma City, OK', 'created_at': '2023-01-18 23:57:16', 'text': \"@becky_metal Let's change places, that reminds me of the Siberian climate ☃ 😂\", 'retweet_count': 0, 'source': 'Twitter for Android', 'coordinates': None}\n",
            "{'username': 'michael', 'userid': 1243230485716795393, 'profile_location': 'Norman, OK', 'created_at': '2023-01-18 16:13:56', 'text': '@jakeshieldsajj Yes.  Just look at a farmer’s almanac.  The Climate does change and always will.', 'retweet_count': 0, 'source': 'Twitter for iPhone', 'coordinates': None}\n",
            "{'username': 'Markm351', 'userid': 51144899, 'profile_location': 'Oklahoma City, Oklahoma', 'created_at': '2023-01-18 14:05:53', 'text': 'Do not e er wonder why so many believe Climate Change was s a scam https://t.co/1nMGKtqhKV', 'retweet_count': 0, 'source': 'Twitter for iPhone', 'coordinates': None}\n",
            "{'username': 'BASEDINOKC', 'userid': 1587275353407594496, 'profile_location': 'Oklahoma City, Ok', 'created_at': '2023-01-18 01:34:50', 'text': 'Seems quiet on here. Maybe its climate change https://t.co/pCHl23LczW', 'retweet_count': 0, 'source': 'Twitter Web App', 'coordinates': None}\n",
            "{'username': 'Chase k', 'userid': 2734505038, 'profile_location': 'Oklahoma City, OK', 'created_at': '2023-01-18 00:39:20', 'text': \"@GretchenInOK Did you know Gary England doesn't believe in Climate Change?\", 'retweet_count': 0, 'source': 'Twitter for Android', 'coordinates': None}\n",
            "{'username': 'Jimmy Willis', 'userid': 25276571, 'profile_location': 'Oklahoma City', 'created_at': '2023-01-17 22:56:54', 'text': \"@gregbrownedtr @CantHelli @FPWellman It will take five to ten year's or longer to see any change in climate change,… https://t.co/1TYV6fMYRV\", 'retweet_count': 0, 'source': 'Twitter for Android', 'coordinates': None}\n",
            "{'username': 'Chase k', 'userid': 2734505038, 'profile_location': 'Oklahoma City, OK', 'created_at': '2023-01-17 19:48:12', 'text': \"@LesSummers5 Doesn't just that make you think though? Two of the most renowned meteorologist in Oklahoma, don't bel… https://t.co/ULB7xEjzt3\", 'retweet_count': 0, 'source': 'Twitter for Android', 'coordinates': None}\n",
            "{'username': 'Chase k', 'userid': 2734505038, 'profile_location': 'Oklahoma City, OK', 'created_at': '2023-01-17 19:36:16', 'text': \"@LesSummers5 I use to heavily believe in climate change, now I'm sceptical. I believe we definitely have a solution… https://t.co/Nh7V3lC4Ow\", 'retweet_count': 0, 'source': 'Twitter for Android', 'coordinates': None}\n",
            "{'username': 'Chase k', 'userid': 2734505038, 'profile_location': 'Oklahoma City, OK', 'created_at': '2023-01-17 19:33:55', 'text': '@LesSummers5 Do you listen to just the pro-climate change/emergency scientists? Did you know Gary England and Aaron… https://t.co/ikE3CgBkVt', 'retweet_count': 0, 'source': 'Twitter for Android', 'coordinates': None}\n",
            "{'username': 'Chase k', 'userid': 2734505038, 'profile_location': 'Oklahoma City, OK', 'created_at': '2023-01-17 17:41:09', 'text': \"@LesSummers5 It's also a factor of, say the state starts taxing vehicle ownership, to fight climate change, would you support it?\", 'retweet_count': 0, 'source': 'Twitter for Android', 'coordinates': None}\n",
            "{'username': 'Tim Auten', 'userid': 1518911177245483008, 'profile_location': '', 'created_at': '2023-01-17 05:45:16', 'text': \"@muskQu0tes @elonmusk I know that I've never been a denier of Climate Change,\\nbut some of us don't believe it's all… https://t.co/FwRSujaKAS\", 'retweet_count': 0, 'source': 'Twitter for Android', 'coordinates': None}\n",
            "{'username': 'Tim Auten', 'userid': 1518911177245483008, 'profile_location': '', 'created_at': '2023-01-17 05:34:38', 'text': \"@WhiteHouse You forgot to mention,\\nyour High Inflation Prices\\nlike 7 dollar's for a dozen eggs, and triple Prices o… https://t.co/f43JQAiLG0\", 'retweet_count': 0, 'source': 'Twitter for Android', 'coordinates': None}\n",
            "{'username': 'Michael Kahn, Pureblood', 'userid': 366759146, 'profile_location': 'Oklahoma City', 'created_at': '2023-01-17 03:36:38', 'text': \"@israelUSAforeve Climate changes. That's natural.\\nThe hoax is manmade climate change.\", 'retweet_count': 0, 'source': 'Twitter Web App', 'coordinates': None}\n",
            "{'username': 'Tim Auten', 'userid': 1518911177245483008, 'profile_location': '', 'created_at': '2023-01-17 03:03:16', 'text': '@RBReich What are you talking about, its the Socialist Lying Climate Change Democrats with Brainwashed Occult biden… https://t.co/YFuKbOkDAl', 'retweet_count': 0, 'source': 'Twitter for Android', 'coordinates': None}\n",
            "{'username': 'Tim Auten', 'userid': 1518911177245483008, 'profile_location': '', 'created_at': '2023-01-17 02:56:41', 'text': \"@POTUS That's a Bunch of OneSided\\nLying Bull Malarkey, the only Government Officials you work with is AOC's  Occult… https://t.co/bSQmKZMUWL\", 'retweet_count': 0, 'source': 'Twitter for Android', 'coordinates': None}\n",
            "{'username': 'Carl Cool Cat', 'userid': 831357393548218372, 'profile_location': 'Oklahoma City, OK', 'created_at': '2023-01-17 01:56:19', 'text': \"@NuckChorris16 It's called climate change.\", 'retweet_count': 0, 'source': 'Twitter Web App', 'coordinates': None}\n",
            "{'username': 'Harry Corvaire', 'userid': 373503917, 'profile_location': 'okc', 'created_at': '2023-01-16 15:28:18', 'text': \"@BronDArc @uncannylizard1 @loffredojeremy I'm not a huge fan of euthanasia, but all the rest of those are excellent… https://t.co/421aWpwUpb\", 'retweet_count': 0, 'source': 'Twitter Web App', 'coordinates': None}\n",
            "{'username': 'ARM Mid-America', 'userid': 1494712068871708673, 'profile_location': 'Oklahoma City, OK', 'created_at': '2023-01-16 15:01:10', 'text': \"The US Gov't is researching how/why so many insurers have left the states hit hardest by #climatechange \\n.\\nOur frie… https://t.co/E4313xTPng\", 'retweet_count': 1, 'source': 'Hootsuite Inc.', 'coordinates': None}\n",
            "{'username': 'Earth Rebirth 🥬💡💧', 'userid': 259124352, 'profile_location': 'Oklahoma City, OK', 'created_at': '2023-01-16 04:38:15', 'text': 'Bill Gates Discusses AI, Climate Change, and his Time at Microsoft: https://t.co/QuLTyowcyv', 'retweet_count': 0, 'source': 'IFTTT', 'coordinates': None}\n",
            "{'username': 'Landon Brawe', 'userid': 1144353136687165445, 'profile_location': 'Oklahoma City, OK', 'created_at': '2023-01-15 17:57:36', 'text': '@jordanbpeterson Climate change might have been created to explain extreme weather events that are caused by the mi… https://t.co/86sRBW9Xmt', 'retweet_count': 0, 'source': 'Twitter Web App', 'coordinates': None}\n",
            "{'username': 'Thomas Graves', 'userid': 2291743566, 'profile_location': 'OKC', 'created_at': '2023-01-15 17:51:08', 'text': 'Lara Logan; Corruption in the Pentagon; Global Elites Fund Abortion; Climate Change; Elites Want Unvaccinated Pilot… https://t.co/txTSfudmth', 'retweet_count': 1, 'source': 'Twitter Web App', 'coordinates': None}\n",
            "{'username': 'Yukon Conservation Society', 'userid': 326952061, 'profile_location': 'Yukon', 'created_at': '2023-01-15 17:24:21', 'text': 'Cool finding from Kansas about the effects on biodiversity (and thus resilience to climate change) from the re-intr… https://t.co/lNs5saEvpp', 'retweet_count': 1, 'source': 'Twitter Web App', 'coordinates': None}\n",
            "{'username': 'HeartlandOkie', 'userid': 625593151, 'profile_location': 'Oklahoma City, OK', 'created_at': '2023-01-15 15:06:07', 'text': '#Facts are starting to defeat the Democrats and their Human caused global climate change false narrative. Global co… https://t.co/03oOHDRpIt', 'retweet_count': 0, 'source': 'Twitter for Android', 'coordinates': None}\n",
            "{'username': 'Miss 1nformation', 'userid': 1519483299772702721, 'profile_location': 'Oklahoma City, OK', 'created_at': '2023-01-15 05:10:40', 'text': '@CollinRugg Because he is liberal and good. He also paid 50,090 to the wef for climate change to make it an even 100', 'retweet_count': 0, 'source': 'Twitter for iPhone', 'coordinates': None}\n",
            "{'username': 'Charles Martin', 'userid': 1545730190483095558, 'profile_location': 'Oklahoma City', 'created_at': '2023-01-15 00:12:46', 'text': '@Prophecy_Comics We JUST got funded for season two of We Promised Utopia, a sprawling sci-fi story of a perfect wor… https://t.co/wPrWBYEOF3', 'retweet_count': 0, 'source': 'Twitter Web App', 'coordinates': None}\n",
            "{'username': 'Tristan Knoch', 'userid': 1393317806431686658, 'profile_location': 'Oklahoma City, OK', 'created_at': '2023-01-14 23:42:59', 'text': '@RadarRider3 @FoxNews How can you call climate change fake when the only thing constant in life is change, I never… https://t.co/5VKNEnwS6T', 'retweet_count': 0, 'source': 'Twitter for Android', 'coordinates': None}\n",
            "{'username': 'Tim Auten', 'userid': 1518911177245483008, 'profile_location': '', 'created_at': '2023-01-14 23:00:47', 'text': \"@SenatorHagerty @SenateGOP You Got That Right, These Socialist lying Liberal Dem's, must be Out of their\\nCommunist… https://t.co/0gHnCjeU2k\", 'retweet_count': 0, 'source': 'Twitter for Android', 'coordinates': None}\n",
            "{'username': 'Chase k', 'userid': 2734505038, 'profile_location': 'Oklahoma City, OK', 'created_at': '2023-01-14 22:38:47', 'text': '@NathanDahm @JayWBarnett Vegans kill more animals through the mass plowing feilds that also use planes to curtain b… https://t.co/1J5lA1KbtL', 'retweet_count': 0, 'source': 'Twitter for Android', 'coordinates': None}\n",
            "{'username': 'Anthony Diulio', 'userid': 1586203672861724673, 'profile_location': 'Norman, OK', 'created_at': '2023-01-14 21:55:58', 'text': 'What I don’t get are people who made their buck off exploiting free labor but then turn around and say “climate cha… https://t.co/8k3YGMDO2i', 'retweet_count': 0, 'source': 'Twitter for iPhone', 'coordinates': None}\n",
            "{'username': 'Tristan Knoch', 'userid': 1393317806431686658, 'profile_location': 'Oklahoma City, OK', 'created_at': '2023-01-14 20:59:19', 'text': '@FoxNews Cattle are the No. 1 agricultural source of greenhouse gases worldwide. \\n\\nEating beef helps stop climate change', 'retweet_count': 0, 'source': 'Twitter for Android', 'coordinates': None}\n",
            "{'username': 'Michael Kahn, Pureblood', 'userid': 366759146, 'profile_location': 'Oklahoma City', 'created_at': '2023-01-14 17:48:46', 'text': '@LibFails I believed at first &amp; was waiting for general availability to take it when the truth started coming out.… https://t.co/hTjAZZJ2jp', 'retweet_count': 0, 'source': 'Twitter for Android', 'coordinates': None}\n",
            "{'username': 'Charles Martin', 'userid': 1545730190483095558, 'profile_location': 'Oklahoma City', 'created_at': '2023-01-14 15:35:54', 'text': '@KevinRoditeli We JUST got funded for season two of We Promised Utopia, a sprawling sci-fi story of a perfect world… https://t.co/AMmStCsR3X', 'retweet_count': 0, 'source': 'Twitter Web App', 'coordinates': None}\n",
            "{'username': 'Nellie Holman', 'userid': 82346979, 'profile_location': 'Oklahoma City, OK', 'created_at': '2023-01-14 10:28:00', 'text': '@pmcdunnough Yuval Noah Herari publicly speaks about what he and the WEF are doing. They want us below 500 million… https://t.co/VblKtGpi63', 'retweet_count': 0, 'source': 'Twitter Web App', 'coordinates': None}\n",
            "{'username': 'Ryan Wayne Shults', 'userid': 1158930174660030465, 'profile_location': 'Choctaw, OK', 'created_at': '2023-01-14 04:09:57', 'text': '@MSNBC First was global cooling. Then global warming. Now it’s just simply climate change. All they can tell us aft… https://t.co/ov5NiFnHtO', 'retweet_count': 0, 'source': 'Twitter for iPhone', 'coordinates': None}\n",
            "{'username': 'Tyler', 'userid': 733426685857517570, 'profile_location': 'Oklahoma City', 'created_at': '2023-01-14 00:27:45', 'text': \"@sonstheserum @ggreenwald I mean Climate Change is definitely a serious risk that we will face if we don't start ta… https://t.co/qg9yH6QGZM\", 'retweet_count': 0, 'source': 'Twitter for Android', 'coordinates': None}\n",
            "{'username': 'Building Culture', 'userid': 721872053633060864, 'profile_location': 'Oklahoma City, OK, USA', 'created_at': '2023-01-13 18:46:07', 'text': '2/3 the number of housing starts and contributions to GDP—topped off with an overlay of “fighting climate change” i… https://t.co/XcUmuMjCh0', 'retweet_count': 3, 'source': 'Twitter for iPhone', 'coordinates': None}\n",
            "{'username': 'Real Tweets of Genius 🎶🧠', 'userid': 1518760240426229761, 'profile_location': 'Nunya Damn', 'created_at': '2023-01-13 18:28:51', 'text': 'If you believe in the following please seek mental help. 🤡\\n\\nRussian Collusion \\nFake Insurrections \\nMost masks work… https://t.co/VqcbqQYWFF', 'retweet_count': 6, 'source': 'Twitter for iPhone', 'coordinates': None}\n",
            "{'username': \"Appsro's Junkyard.\", 'userid': 1494052249634549766, 'profile_location': 'Moore, OK. ', 'created_at': '2023-01-13 17:36:40', 'text': 'I think this just goes to show that climate change is very much real. https://t.co/WPFWmzl6wv', 'retweet_count': 0, 'source': 'Twitter Web App', 'coordinates': None}\n",
            "{'username': 'Mark Harris', 'userid': 1586810943551438849, 'profile_location': 'Edmond, OK', 'created_at': '2023-01-13 15:59:20', 'text': 'Climates do change and are affected by man, but this occurs over decades.  Urgent climate action is not needed, res… https://t.co/q6oGqhlvsL', 'retweet_count': 0, 'source': 'Twitter for iPad', 'coordinates': None}\n",
            "{'username': 'OKCAtlasShruggedFans', 'userid': 816256418, 'profile_location': 'Oklahoma City, Oklahoma', 'created_at': '2023-01-13 15:34:47', 'text': 'Climate Change FED Policy and California Flooding @YaronBrook \\n\\nhttps://t.co/IjCxTRw4aS', 'retweet_count': 2, 'source': 'Twitter Web App', 'coordinates': None}\n",
            "{'username': 'john thompson', 'userid': 163614938, 'profile_location': 'Oklahoma City', 'created_at': '2023-01-13 15:15:06', 'text': 'Exxon Scientists Predicted Global Warming, Even as Company Cast Doubts, Study Finds https://t.co/3CkjpIHSqe', 'retweet_count': 0, 'source': 'Twitter Web App', 'coordinates': None}\n",
            "{'username': 'whitney🌌🍸', 'userid': 97073922, 'profile_location': 'Oklahoma City, OK', 'created_at': '2023-01-13 04:54:10', 'text': '@FredCavanaugh1 @NEWS9 I’m so confused on what conspiracy theory you’re trying to talk about bc first u said climate change', 'retweet_count': 0, 'source': 'Twitter for iPhone', 'coordinates': None}\n",
            "{'username': 'OU Photovoltaic Materials and Devices Group', 'userid': 1029065157052379136, 'profile_location': 'Norman, OK', 'created_at': '2023-01-13 02:51:41', 'text': 'ExxonMobil: Oil giant predicted climate change in 1970s - scientists https://t.co/XViWMIE2UT', 'retweet_count': 0, 'source': 'Twitter for iPhone', 'coordinates': None}\n",
            "{'username': 'whitney🌌🍸', 'userid': 97073922, 'profile_location': 'Oklahoma City, OK', 'created_at': '2023-01-12 20:46:10', 'text': '@Leigha19514613 What does climate change have to do with this', 'retweet_count': 0, 'source': 'Twitter for iPhone', 'coordinates': None}\n",
            "{'username': 'James Reichenbach', 'userid': 1244142766851887104, 'profile_location': 'Oklahoma City, OK', 'created_at': '2023-01-12 18:30:19', 'text': 'Newsom Announces Cuts to Climate Change Funding, Mid-flood, Due to Deficit https://t.co/8YVRZdvNGk #news #followme https://t.co/cMu63seGli', 'retweet_count': 0, 'source': 'SocialPilot.co', 'coordinates': None}\n",
            "{'username': 'John', 'userid': 1516596736130699267, 'profile_location': 'Oklahoma City, OK', 'created_at': '2023-01-12 18:20:35', 'text': \"@TaraBull808 I think I need a link to this question because I don't know anyone blaming climate change too sudden deaths\", 'retweet_count': 0, 'source': 'Twitter for Android', 'coordinates': None}\n",
            "{'username': 'Adam Leonard', 'userid': 826248083881103360, 'profile_location': 'Oklahoma City, OK', 'created_at': '2023-01-12 14:23:02', 'text': '@mattgaetz Left is out of control with climate change', 'retweet_count': 0, 'source': 'Twitter for iPhone', 'coordinates': None}\n",
            "{'username': 'Ken Ragsdale', 'userid': 2539908208, 'profile_location': 'Oklahoma City, OK', 'created_at': '2023-01-12 13:00:18', 'text': 'Consumers order less beef when fast food restaurants disclose climate change impact, study https://t.co/BHKVq9oTTc via @YahooNews @DougCarel', 'retweet_count': 0, 'source': 'Twitter Web App', 'coordinates': None}\n",
            "{'username': 'sarahraineysmith', 'userid': 2165356314, 'profile_location': 'Oklahoma City, OK', 'created_at': '2023-01-12 02:53:04', 'text': '@heyorson @stillgray When power is out I’ve enjoyed heat from the gas fireplace and cooking on the gas stove. You’r… https://t.co/jPJxfD58IN', 'retweet_count': 0, 'source': 'Twitter for iPhone', 'coordinates': None}\n",
            "{'username': 'RussFlorence', 'userid': 14825137, 'profile_location': 'Oklahoma City', 'created_at': '2023-01-12 01:51:09', 'text': 'So, one new board member wants to bring Christianity into schools. One is a climate change denier. One is a private… https://t.co/KHKeNL7OTm', 'retweet_count': 0, 'source': 'Twitter for iPhone', 'coordinates': None}\n",
            "the crawling task is finished.\n"
          ]
        }
      ],
      "source": [
        "# Define the search term and the date_since date as variables\n",
        "search_words = \"Climate change\"or\"global warming\"\n",
        "# make sure there is no space between lat, long and the radius.\n",
        "\n",
        "# Seattle \n",
        "#location = \"47.62039945423961,-122.30359179186148,25mi\"\n",
        "# Houston\n",
        "#location = \"29.751235082988945,-95.4022626911777,25mi\"\n",
        "# Oklahoma City\n",
        "location = \"35.448551137542765,-97.51801105977773,25mi\"\n",
        "\n",
        "\n",
        "date_since = \"2020-6-9\"\n",
        "# read the Twitter API document to look for other ways to customize your queries.\n",
        "# refer to https://developer.twitter.com/en/docs/twitter-api/v1/rules-and-filtering/search-operators\n",
        "# for example: you can ignore all the retweets by #wildfires -filter:retweets\n",
        "# Geolocalization: the search operator “near” isn’t available in the API, but there is a more precise way to restrict\n",
        "# your query by a given location using the geocode parameter specified with the template “latitude,longitude,radius”,\n",
        "# for example, “47.6138893,-122.3107869,10mi” (capitol hill at Seattle). When conducting geo searches, the search API will first attempt to find Tweets、\n",
        "# which have lat/long within the queried geocode, and in case of not having success, it will attempt to find Tweets created\n",
        "# by users whose profile location can be reverse geocoded into a lat/long within the queried geocode, meaning that is possible\n",
        "# to receive Tweets which do not include lat/long information.\n",
        "\n",
        "\n",
        "# Collect tweets\n",
        "# tweets = tweepy.Cursor(api.search, q=search_words, lang=\"en\", since=date_since).items(100)\n",
        "tweets = tweepy.Cursor(api.search, q=search_words, geocode=location, lang=\"en\", since=date_since).items(1000)\n",
        "\n",
        "# create an array to store the result\n",
        "result = []\n",
        "\n",
        "# Iterate and print tweets\n",
        "for tweet in tweets:\n",
        "    row = {\n",
        "        'username': tweet.author.name,\n",
        "        'userid': tweet.author.id,\n",
        "        'profile_location': tweet.author.location,\n",
        "        'created_at': str(tweet.created_at),\n",
        "        'text': tweet.text,\n",
        "        'retweet_count': tweet.retweet_count,\n",
        "        'source': tweet.source,\n",
        "        'coordinates': tweet.coordinates\n",
        "    }\n",
        "    result.append(row)\n",
        "    print(row)\n",
        "\n",
        "# Store the results as a pandas dataframe\n",
        "df = pd.DataFrame(result)\n",
        "\n",
        "# notify the completion of the crawling in the console.\n",
        "print(\"the crawling task is finished.\")"
      ]
    },
    {
      "cell_type": "code",
      "execution_count": 37,
      "id": "Zm98obJ2onCV",
      "metadata": {
        "colab": {
          "base_uri": "https://localhost:8080/"
        },
        "id": "Zm98obJ2onCV",
        "outputId": "0df5f5c6-a227-4ae5-8f2c-00dd046b5cec"
      },
      "outputs": [
        {
          "name": "stdout",
          "output_type": "stream",
          "text": [
            "Drive already mounted at /gdrive; to attempt to forcibly remount, call drive.mount(\"/gdrive\", force_remount=True).\n"
          ]
        }
      ],
      "source": [
        "# Create data on to Google Drive\n",
        "from google.colab import drive\n",
        "# Mount your Drive to the Colab VM.\n",
        "drive.mount('/gdrive')\n",
        "  \n",
        "df.to_csv(output_file, index=False)"
      ]
    },
    {
      "cell_type": "code",
      "execution_count": 38,
      "id": "GMywhiuFoobU",
      "metadata": {
        "colab": {
          "base_uri": "https://localhost:8080/",
          "height": 34
        },
        "id": "GMywhiuFoobU",
        "outputId": "bbd8d4bd-5af8-412f-ef28-b93f69cdc036"
      },
      "outputs": [
        {
          "data": {
            "application/javascript": "\n    async function download(id, filename, size) {\n      if (!google.colab.kernel.accessAllowed) {\n        return;\n      }\n      const div = document.createElement('div');\n      const label = document.createElement('label');\n      label.textContent = `Downloading \"${filename}\": `;\n      div.appendChild(label);\n      const progress = document.createElement('progress');\n      progress.max = size;\n      div.appendChild(progress);\n      document.body.appendChild(div);\n\n      const buffers = [];\n      let downloaded = 0;\n\n      const channel = await google.colab.kernel.comms.open(id);\n      // Send a message to notify the kernel that we're ready.\n      channel.send({})\n\n      for await (const message of channel.messages) {\n        // Send a message to notify the kernel that we're ready.\n        channel.send({})\n        if (message.buffers) {\n          for (const buffer of message.buffers) {\n            buffers.push(buffer);\n            downloaded += buffer.byteLength;\n            progress.value = downloaded;\n          }\n        }\n      }\n      const blob = new Blob(buffers, {type: 'application/binary'});\n      const a = document.createElement('a');\n      a.href = window.URL.createObjectURL(blob);\n      a.download = filename;\n      div.appendChild(a);\n      a.click();\n      div.remove();\n    }\n  ",
            "text/plain": [
              "<IPython.core.display.Javascript object>"
            ]
          },
          "metadata": {},
          "output_type": "display_data"
        },
        {
          "data": {
            "application/javascript": "download(\"download_3e8ea0dd-3f49-4209-8bee-65a5a5f1c9d6\", \"twsearch-result.csv\", 15751)",
            "text/plain": [
              "<IPython.core.display.Javascript object>"
            ]
          },
          "metadata": {},
          "output_type": "display_data"
        },
        {
          "name": "stdout",
          "output_type": "stream",
          "text": [
            "the csv has been downloaded to your local computer. The program has been completed successfully.\n"
          ]
        }
      ],
      "source": [
        "# download the csv to your local computer\n",
        "from google.colab import files\n",
        "files.download(output_file)\n",
        "print(\"the csv has been downloaded to your local computer. The program has been completed successfully.\")"
      ]
    }
  ],
  "metadata": {
    "colab": {
      "provenance": []
    },
    "kernelspec": {
      "display_name": "Python 3",
      "language": "python",
      "name": "python3"
    },
    "language_info": {
      "codemirror_mode": {
        "name": "ipython",
        "version": 3
      },
      "file_extension": ".py",
      "mimetype": "text/x-python",
      "name": "python",
      "nbconvert_exporter": "python",
      "pygments_lexer": "ipython3",
      "version": "3.7.10"
    }
  },
  "nbformat": 4,
  "nbformat_minor": 5
}
